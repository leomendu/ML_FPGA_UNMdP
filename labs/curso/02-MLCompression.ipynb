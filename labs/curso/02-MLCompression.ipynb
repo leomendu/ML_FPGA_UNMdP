{
 "cells": [
  {
   "cell_type": "markdown",
   "metadata": {},
   "source": [
    "![alt text](../img/general/header.png)\n"
   ]
  },
  {
   "cell_type": "markdown",
   "metadata": {},
   "source": [
    "# Compresión de modelos basados en ML\n",
    "\n"
   ]
  },
  {
   "cell_type": "markdown",
   "metadata": {},
   "source": [
    "### Librerías"
   ]
  },
  {
   "cell_type": "code",
   "execution_count": null,
   "metadata": {},
   "outputs": [],
   "source": [
    "import os\n",
    "import numpy as np\n",
    "from numpy import array\n",
    "import matplotlib.pyplot as plt\n",
    "import seaborn as sn\n",
    "import pandas as pd\n",
    "\n",
    "## Tensorflow + Keras libraries\n",
    "import tensorflow as tf\n",
    "from tensorflow import keras\n",
    "from tensorflow.keras import Sequential\n",
    "from tensorflow.keras.models import *\n",
    "from tensorflow.keras.layers import *\n",
    "from tensorflow.keras.utils import to_categorical\n",
    "from tensorflow.keras.optimizers import SGD, Adam\n",
    "import tensorflow_model_optimization as tfmot\n",
    "from tensorflow_model_optimization.python.core.sparsity.keras import prune, pruning_callbacks, pruning_schedule\n",
    "from tensorflow_model_optimization.sparsity.keras import strip_pruning\n",
    "\n",
    "## Quantization\n",
    "from qkeras import *\n",
    "\n",
    "## Datasets\n",
    "from tensorflow.keras.datasets import cifar10\n",
    "from tensorflow.keras.datasets import cifar100\n",
    "from tensorflow.keras.datasets import mnist\n",
    "from tensorflow.keras.datasets import fashion_mnist\n",
    "\n",
    "from distillationClassKeras import *\n",
    "from sklearn.metrics import confusion_matrix, ConfusionMatrixDisplay"
   ]
  },
  {
   "cell_type": "markdown",
   "metadata": {},
   "source": [
    "### Habilitación de GPU "
   ]
  },
  {
   "cell_type": "code",
   "execution_count": null,
   "metadata": {},
   "outputs": [],
   "source": [
    "# GPU\n",
    "os.environ['TF_XLA_FLAGS'] = '--tf_xla_enable_xla_devices'\n",
    "\n",
    "import tensorflow as tf\n",
    "print(\"GPUs: \", len(tf.config.experimental.list_physical_devices('GPU')))\n",
    "\n",
    "import tensorflow as tf\n",
    "gpus = tf.config.experimental.list_physical_devices('GPU')\n",
    "if gpus:\n",
    "    try:\n",
    "        for gpu in gpus:\n",
    "            tf.config.experimental.set_memory_growth(gpu, True)\n",
    "\n",
    "    except RuntimeError as e:\n",
    "        print(e)"
   ]
  },
  {
   "cell_type": "markdown",
   "metadata": {},
   "source": [
    "### Carga de modelo pre-entrenado"
   ]
  },
  {
   "cell_type": "code",
   "execution_count": null,
   "metadata": {},
   "outputs": [],
   "source": [
    "model = load_model('../models/mnistModel_FC.h5')"
   ]
  },
  {
   "cell_type": "code",
   "execution_count": null,
   "metadata": {},
   "outputs": [],
   "source": [
    "model.summary()"
   ]
  },
  {
   "cell_type": "markdown",
   "metadata": {},
   "source": [
    "### Carga dataset\n",
    "\n",
    "Para este laboratorio vamos a trabajar con MNIST dataset."
   ]
  },
  {
   "cell_type": "code",
   "execution_count": null,
   "metadata": {},
   "outputs": [],
   "source": [
    "# Carga del dataset, dividido en trainig y testing (data y clase)\n",
    "(x_train, y_train),(x_test, y_test) = mnist.load_data()\n",
    "x_train_norm, x_test_norm = x_train / 255.0, x_test / 255.0"
   ]
  },
  {
   "cell_type": "code",
   "execution_count": null,
   "metadata": {},
   "outputs": [],
   "source": [
    "n_classes = 10\n",
    "# One-hot encode labels\n",
    "y_train = to_categorical(y_train, num_classes = n_classes)\n",
    "y_test = to_categorical(y_test, num_classes = n_classes)"
   ]
  },
  {
   "cell_type": "markdown",
   "metadata": {},
   "source": [
    "## Técnicas de compresión"
   ]
  },
  {
   "cell_type": "markdown",
   "metadata": {},
   "source": [
    "### 💡 Pruning (poda)\n",
    "\n",
    "**Pruning** (o poda) es una técnica utilizada para reducir el tamaño y la complejidad de un modelo de aprendizaje profundo eliminando pesos o neuronas innecesarias. Su objetivo principal es mejorar la eficiencia del modelo, reduciendo el consumo de memoria y acelerando las inferencias sin afectar significativamente su rendimiento.\n",
    "\n"
   ]
  },
  {
   "cell_type": "code",
   "execution_count": null,
   "metadata": {},
   "outputs": [],
   "source": [
    "epochs = 16\n",
    "lr = 0.001\n",
    "loss = 'categorical_crossentropy'\n",
    "op = Adam(lr)\n",
    "metrics = ['accuracy']\n",
    "batch = 64\n",
    "val_split = 0.2\n",
    "\n",
    "final_sparsity = 0.3\n",
    "\n",
    "pruning_params = {\n",
    "                'pruning_schedule': tfmot.sparsity.keras.PolynomialDecay(\n",
    "                initial_sparsity=0, final_sparsity=final_sparsity, begin_step=0, end_step=3000\n",
    "                )\n",
    "            }"
   ]
  },
  {
   "cell_type": "code",
   "execution_count": null,
   "metadata": {},
   "outputs": [],
   "source": [
    "modelP = tfmot.sparsity.keras.prune_low_magnitude(model, **pruning_params)\n",
    "\n",
    "modelP.compile(optimizer=op, loss=loss, metrics=metrics)"
   ]
  },
  {
   "cell_type": "code",
   "execution_count": null,
   "metadata": {},
   "outputs": [],
   "source": [
    "history = modelP.fit(\n",
    "                x_train_norm, y_train,\n",
    "                validation_split = val_split,\n",
    "                epochs=epochs,\n",
    "                batch_size = batch,\n",
    "                callbacks = [tfmot.sparsity.keras.UpdatePruningStep()],\n",
    "                verbose=1\n",
    "            )"
   ]
  },
  {
   "cell_type": "code",
   "execution_count": null,
   "metadata": {},
   "outputs": [],
   "source": [
    "# Plot accuracy over epochs\n",
    "plt.figure(figsize=(10,3))\n",
    "plt.plot(history.history['accuracy'], label='Train Accuracy')\n",
    "plt.plot(history.history['val_accuracy'], label='Validation Accuracy')\n",
    "plt.xlabel('Epochs')\n",
    "plt.ylabel('Accuracy')\n",
    "plt.legend()\n",
    "plt.show()"
   ]
  },
  {
   "cell_type": "markdown",
   "metadata": {},
   "source": [
    "#### Métricas"
   ]
  },
  {
   "cell_type": "code",
   "execution_count": null,
   "metadata": {},
   "outputs": [],
   "source": [
    "y_pred_probs = model.predict(x_test_norm)\n",
    "y_pred = np.argmax(y_pred_probs, axis=1)\n",
    "\n",
    "# Since y_test is one-hot encoded, you need to convert it back to class indices\n",
    "y_true = np.argmax(y_test, axis=1)  # Convert one-hot encoded labels to class indices\n",
    "\n",
    "cm = confusion_matrix(y_true, y_pred)\n",
    "disp = ConfusionMatrixDisplay(confusion_matrix=cm)\n",
    "disp.plot(cmap=\"Purples\")\n",
    "plt.title('Confusion Matrix MNIST - Pruning')\n",
    "plt.show()\n"
   ]
  },
  {
   "cell_type": "markdown",
   "metadata": {},
   "source": [
    "#### Guardar el modelo entrenado en disco"
   ]
  },
  {
   "cell_type": "code",
   "execution_count": null,
   "metadata": {},
   "outputs": [],
   "source": [
    "modelP = strip_pruning(modelP)\n",
    "modelP.save('models/mnistModel_FC_P.h5')"
   ]
  },
  {
   "cell_type": "markdown",
   "metadata": {},
   "source": [
    "\n",
    "####  📝 Ejercicio: \n",
    "\n",
    "- Modificar el valor de final_sparsity (0.1, 0.3, 0.5, 0.7, 0.9) y reportar las métricas para cada modelo. Qué conclusión se puede obtener al respecto? \n",
    "\n",
    "\n",
    "--- "
   ]
  },
  {
   "cell_type": "markdown",
   "metadata": {},
   "source": [
    "### 💡 Quantization (Cuantización)\n",
    "\n",
    "La cuantización es una técnica que reduce la precisión numérica de los parámetros de una red neuronal, transformando los valores de punto flotante (por ejemplo, 32 bits) a representaciones de menor precisión, como 16 bits o incluso 8 bits. El objetivo principal es reducir el tamaño del modelo y acelerar las inferencias, especialmente en dispositivos con recursos limitados, como teléfonos móviles o microcontroladores.\n",
    "\n",
    "En este laboratorio vamos a usar **quantization aware-training (QAT)** y **quantization-aware pruning (QAP)** . \n",
    "\n",
    "- QAT es una técnica de entrenamiento en la que el modelo aprende a adaptarse a la cuantización antes de ser implementado en hardware. En lugar de entrenar el modelo en precisión completa (punto flotante de 32 bits) y luego cuantizarlo, se introduce la cuantización durante el entrenamiento.\n",
    "\n",
    "- QAP combina pruning (eliminación de conexiones innecesarias en la red neuronal) con quantization-aware training. El objetivo es reducir el tamaño del modelo antes de cuantizarlo, para obtener una red más eficiente sin sacrificar precisión."
   ]
  },
  {
   "cell_type": "markdown",
   "metadata": {},
   "source": [
    "#### 💡 Quantization-aware training"
   ]
  },
  {
   "cell_type": "markdown",
   "metadata": {},
   "source": [
    "El modelo se re-define haciendo uso de **QKeras**, una extensión de Keras diseñada para crear y entrenar modelos de redes neuronales con cuantización. Su principal objetivo es optimizar modelos para hardware con recursos limitados, como FPGAs, microcontroladores y aceleradores embebidos.\n",
    "\n",
    "- Permite definir pesos y activaciones con diferentes niveles de precisión (por ejemplo, 8 bits, 4 bits, ternario (-1, 0, 1), etc.).\n",
    "\n",
    "- Al reducir la precisión numérica, disminuye el uso de memoria y el costo computacional.\n",
    "\n",
    "- Facilita la conversión de modelos cuantizados en implementaciones eficientes para FPGAs, garantizando la compatibilidad con hls4ml.\n",
    "\n",
    "- Compatible con capas estándar de Keras, pero con soporte adicional para configuraciones de precisión baja.\n",
    "\n",
    "Una vez redefinido el modelo a entrenear mediante QKeras, se procede al entrenamiento del mismo. \n",
    "\n",
    "**QKeras:** Coelho, C. N., Kuusela, A., Zhuang, H., Aarrestad, T., Loncar, V., Ngadiuba, J., ... & Summers, S. (2020). _Ultra low-latency, low-area inference accelerators using heterogeneous deep quantization with QKeras and hls4ml_. arXiv preprint arXiv:2006.10159, 108."
   ]
  },
  {
   "cell_type": "code",
   "execution_count": null,
   "metadata": {},
   "outputs": [],
   "source": [
    "## Estrategia de cuantización\n",
    "\n",
    "## Definición del número de bits para kernel, bias, y activación.\n",
    "# 8-bits\n",
    "\n",
    "kernelQ = \"quantized_bits(8,4,alpha=1)\"\n",
    "biasQ = \"quantized_bits(8, 4,alpha=1)\"\n",
    "activationQ = 'quantized_bits(8, 4)'\n",
    "\n",
    "modelQAT = Sequential(\n",
    "            [   \n",
    "                Flatten(input_shape=(28, 28)),\n",
    "                QDense(100, name='fc1',\n",
    "                        kernel_quantizer= kernelQ, bias_quantizer= biasQ,\n",
    "                        kernel_initializer='lecun_uniform'),\n",
    "                QActivation(activation= activationQ ,  name='relu1'),\n",
    "\n",
    "                Dropout(0.1),\n",
    "\n",
    "                QDense(50, name='fc2',\n",
    "                        kernel_quantizer=kernelQ, bias_quantizer=biasQ,\n",
    "                        kernel_initializer='lecun_uniform'),\n",
    "                QActivation(activation=activationQ, name='relu2'), \n",
    "                Dropout(0.1),\n",
    "                \n",
    "\n",
    "                QDense(20, name='fc3',\n",
    "                        kernel_quantizer=kernelQ, bias_quantizer=biasQ,\n",
    "                        kernel_initializer='lecun_uniform'),\n",
    "                QActivation(activation=activationQ, name='relu3'), \n",
    "                \n",
    "                Dropout(0.1),\n",
    "                \n",
    "                QDense(10, name='output',\n",
    "                        kernel_quantizer= kernelQ, bias_quantizer= biasQ,\n",
    "                        kernel_initializer='lecun_uniform'),\n",
    "                Activation(activation='softmax', name='softmax')\n",
    "               \n",
    "            ],\n",
    "\n",
    "            name=\"quantizedModel\",\n",
    "        )"
   ]
  },
  {
   "cell_type": "code",
   "execution_count": null,
   "metadata": {},
   "outputs": [],
   "source": [
    "modelQAT.summary()"
   ]
  },
  {
   "cell_type": "code",
   "execution_count": null,
   "metadata": {},
   "outputs": [],
   "source": [
    "# Entrenamiento\n",
    "\n",
    "epochs = 16\n",
    "lr = 0.001\n",
    "loss = 'categorical_crossentropy'\n",
    "op = Adam(lr)\n",
    "metrics = ['accuracy']\n",
    "batch = 64\n",
    "val_split = 0.2\n",
    "\n",
    "\n",
    "modelQAT.compile(optimizer=op, loss=loss, metrics=metrics)\n",
    "                \n",
    "H = modelQAT.fit(x_train_norm, y_train,\n",
    "                validation_split = val_split,\n",
    "                epochs=epochs,\n",
    "                batch_size = batch,\n",
    "                verbose=1\n",
    "                )"
   ]
  },
  {
   "cell_type": "code",
   "execution_count": null,
   "metadata": {},
   "outputs": [],
   "source": [
    "# Plot accuracy over epochs\n",
    "plt.figure(figsize=(10,3))\n",
    "plt.plot(history.history['accuracy'], label='Train Accuracy')\n",
    "plt.plot(history.history['val_accuracy'], label='Validation Accuracy')\n",
    "plt.xlabel('Epochs')\n",
    "plt.ylabel('Accuracy')\n",
    "plt.legend()\n",
    "plt.show()"
   ]
  },
  {
   "cell_type": "markdown",
   "metadata": {},
   "source": [
    "#### Métricas"
   ]
  },
  {
   "cell_type": "code",
   "execution_count": null,
   "metadata": {},
   "outputs": [],
   "source": [
    "y_pred_probs = model.predict(x_test_norm)\n",
    "y_pred = np.argmax(y_pred_probs, axis=1)\n",
    "\n",
    "# Since y_test is one-hot encoded, you need to convert it back to class indices\n",
    "y_true = np.argmax(y_test, axis=1)  # Convert one-hot encoded labels to class indices\n",
    "\n",
    "cm = confusion_matrix(y_true, y_pred)\n",
    "disp = ConfusionMatrixDisplay(confusion_matrix=cm)\n",
    "disp.plot(cmap=\"Purples\")\n",
    "plt.title('Confusion Matrix MNIST - Pruning')\n",
    "plt.show()\n"
   ]
  },
  {
   "cell_type": "markdown",
   "metadata": {},
   "source": [
    "#### 💡 Quantization-aware pruning\n",
    "\n",
    "Quantization-aware pruning (QAP) combina pruning con quantization-aware training. El objetivo es reducir el tamaño del modelo luego de cuantizarlo, para obtener una red más eficiente sin sacrificar precisión."
   ]
  },
  {
   "cell_type": "code",
   "execution_count": null,
   "metadata": {},
   "outputs": [],
   "source": [
    "# Estrategia para pruning\n",
    "\n",
    "final_sparsity = 0.3\n",
    "\n",
    "pruning_params = {\n",
    "                'pruning_schedule': tfmot.sparsity.keras.PolynomialDecay(\n",
    "                initial_sparsity=0, final_sparsity=final_sparsity, begin_step=0, end_step=3000\n",
    "                )\n",
    "            }"
   ]
  },
  {
   "cell_type": "code",
   "execution_count": null,
   "metadata": {},
   "outputs": [],
   "source": [
    "## Estrategia de cuantización\n",
    "\n",
    "## Definición del número de bits para kernel, bias, y activación.\n",
    "# 8-bits\n",
    "\n",
    "kernelQ = \"quantized_bits(8,4,alpha=1)\"\n",
    "biasQ = \"quantized_bits(8, 4,alpha=1)\"\n",
    "activationQ = 'quantized_bits(8, 4)'\n",
    "\n",
    "modelQ = Sequential(\n",
    "            [   \n",
    "                Flatten(input_shape=(28, 28)),\n",
    "                QDense(100, name='fc1',\n",
    "                        kernel_quantizer= kernelQ, bias_quantizer= biasQ,\n",
    "                        kernel_initializer='lecun_uniform'),\n",
    "                QActivation(activation= activationQ ,  name='relu1'),\n",
    "\n",
    "                Dropout(0.1),\n",
    "\n",
    "                QDense(50, name='fc2',\n",
    "                        kernel_quantizer=kernelQ, bias_quantizer=biasQ,\n",
    "                        kernel_initializer='lecun_uniform'),\n",
    "                QActivation(activation=activationQ, name='relu2'), \n",
    "                Dropout(0.1),\n",
    "                \n",
    "\n",
    "                QDense(20, name='fc3',\n",
    "                        kernel_quantizer=kernelQ, bias_quantizer=biasQ,\n",
    "                        kernel_initializer='lecun_uniform'),\n",
    "                QActivation(activation=activationQ, name='relu3'), \n",
    "                \n",
    "                Dropout(0.1),\n",
    "                \n",
    "                QDense(10, name='output',\n",
    "                        kernel_quantizer= kernelQ, bias_quantizer= biasQ,\n",
    "                        kernel_initializer='lecun_uniform'),\n",
    "                Activation(activation='softmax', name='softmax')\n",
    "               \n",
    "            ],\n",
    "\n",
    "            name=\"quantizedModel\",\n",
    "        )"
   ]
  },
  {
   "cell_type": "code",
   "execution_count": null,
   "metadata": {},
   "outputs": [],
   "source": [
    "# Entrenamiento\n",
    "\n",
    "epochs = 16\n",
    "lr = 0.001\n",
    "loss = 'categorical_crossentropy'\n",
    "op = Adam(lr)\n",
    "metrics = ['accuracy']\n",
    "batch = 64\n",
    "val_split = 0.2\n",
    "\n",
    "\n",
    "modelQAP = tfmot.sparsity.keras.prune_low_magnitude(modelQ, **pruning_params)\n",
    "\n",
    "modelQAP.compile(optimizer=op, loss=loss, metrics=metrics)\n",
    "                \n",
    "H = modelQAP.fit(x_train_norm, y_train,\n",
    "                validation_split = val_split,\n",
    "                epochs=epochs,\n",
    "                batch_size = batch,\n",
    "                callbacks = [tfmot.sparsity.keras.UpdatePruningStep()],\n",
    "                verbose=1\n",
    "                )"
   ]
  },
  {
   "cell_type": "markdown",
   "metadata": {},
   "source": [
    "#### Métricas"
   ]
  },
  {
   "cell_type": "code",
   "execution_count": null,
   "metadata": {},
   "outputs": [],
   "source": [
    "y_pred_probs = model.predict(x_test_norm)\n",
    "y_pred = np.argmax(y_pred_probs, axis=1)\n",
    "\n",
    "# Since y_test is one-hot encoded, you need to convert it back to class indices\n",
    "y_true = np.argmax(y_test, axis=1)  # Convert one-hot encoded labels to class indices\n",
    "\n",
    "cm = confusion_matrix(y_true, y_pred)\n",
    "disp = ConfusionMatrixDisplay(confusion_matrix=cm)\n",
    "disp.plot(cmap=\"Purples\")\n",
    "plt.title('Confusion Matrix MNIST - Pruning')\n",
    "plt.show()\n"
   ]
  },
  {
   "cell_type": "markdown",
   "metadata": {},
   "source": [
    "\n",
    "#### 📝 Ejercicio: \n",
    "\n",
    "- Modificar el numero de bits (4, 8, 16, 32) y reportar las metricas de cada modelo, considerando QAT y QAP. Que conclusion puede obtener? \n",
    "\n",
    "- Modificar la arquitectura MLP (aumentando o disminuyendo capas) y reemplazando la capa _Flatten_ por _Dense_ . \n",
    "\n",
    "--- "
   ]
  },
  {
   "cell_type": "markdown",
   "metadata": {},
   "source": [
    "### Knowledge distillation\n",
    "\n",
    "\n",
    "Esta técnica se dedica a transferir conocimiento de una red grande (_teacher_) a una red objetivo más pequeña y más rápida (_distilled_ o _estudiante_) que puede reproducir el comportamiento de la arquitectura maestra y al mismo tiempo ser computacionalmente menos costosa.\n",
    "\n",
    "![alt text](../img/lab02/distillation.png)\n",
    "\n",
    "Para mas información sobre **Knowledge Distillation**: Hinton, G. (2015). _Distilling the Knowledge in a Neural Network_. arXiv preprint arXiv:1503.02531.\n",
    "\n"
   ]
  },
  {
   "cell_type": "code",
   "execution_count": null,
   "metadata": {},
   "outputs": [],
   "source": [
    "# Cargar dataset MNIST\n",
    "(x_train, y_train), (x_test, y_test) = keras.datasets.mnist.load_data()\n",
    "x_train, x_test = x_train / 255.0, x_test / 255.0            # Normalización\n",
    "\n",
    "x_train = x_train.reshape(-1, 28 * 28)                       # Aplanar imágenes\n",
    "x_test = x_test.reshape(-1, 28 * 28)\n",
    "\n",
    "y_train = to_categorical(y_train, num_classes=10, dtype=int)\n",
    "y_test = to_categorical(y_test, num_classes=10, dtype=int)"
   ]
  },
  {
   "cell_type": "code",
   "execution_count": null,
   "metadata": {},
   "outputs": [],
   "source": [
    "# Definir el modelo Teacher (MLP grande) \n",
    "\n",
    "def build_teacher():\n",
    "    model = keras.Sequential([\n",
    "        Dense(512, activation=\"relu\", input_shape=(28 * 28,)),\n",
    "        Dense(256, activation=\"relu\"),\n",
    "        Dense(10,  activation=\"softmax\")  \n",
    "    ])\n",
    "    return model\n",
    "\n",
    "# Compilar y entrenar el modelo Teacher\n",
    "teacher = build_teacher()\n",
    "teacher.summary()\n",
    "\n",
    "teacher.compile(optimizer=\"adam\", loss=\"categorical_crossentropy\", metrics=[\"accuracy\"])\n",
    "history = teacher.fit(x_train, y_train, epochs=16, batch_size=128, validation_data=(x_test, y_test))\n",
    "\n"
   ]
  },
  {
   "cell_type": "code",
   "execution_count": null,
   "metadata": {},
   "outputs": [],
   "source": [
    "# Definir el modelo Student (MLP más pequeño)\n",
    "\n",
    "def build_student():\n",
    "    model = keras.Sequential([\n",
    "        Dense(5, activation=\"relu\", input_shape=(28 * 28,)),  \n",
    "        Dense(7, activation=\"relu\"),\n",
    "        Dense(10, activation=\"softmax\")  # Softmax en la salida\n",
    "    ])\n",
    "    return model\n",
    "\n",
    "student = build_student()"
   ]
  },
  {
   "cell_type": "code",
   "execution_count": null,
   "metadata": {},
   "outputs": [],
   "source": [
    "train_labels = np.argmax(y_train, axis=1)\n",
    "\n",
    "distilledMLP = Distiller(student=student, teacher=teacher)"
   ]
  },
  {
   "cell_type": "code",
   "execution_count": null,
   "metadata": {},
   "outputs": [],
   "source": [
    "distilledMLP.student.summary()"
   ]
  },
  {
   "cell_type": "code",
   "execution_count": null,
   "metadata": {},
   "outputs": [],
   "source": [
    "# Proceso de destilación del conocimiento\n",
    "\n",
    "adam = Adam(0.0001)\n",
    "distilledMLP.compile(\n",
    "        optimizer=adam,\n",
    "        metrics=[keras.metrics.SparseCategoricalAccuracy()],\n",
    "        student_loss_fn=keras.losses.SparseCategoricalCrossentropy(from_logits=True),\n",
    "        distillation_loss_fn=keras.losses.KLDivergence(),\n",
    "        alpha=0.1, \n",
    "        temperature=10,\n",
    "    )\n",
    "\n",
    "history = distilledMLP.fit(x_train, train_labels, validation_split=0.2, batch_size = 64, epochs= 32)"
   ]
  },
  {
   "cell_type": "code",
   "execution_count": null,
   "metadata": {},
   "outputs": [],
   "source": []
  },
  {
   "cell_type": "code",
   "execution_count": null,
   "metadata": {},
   "outputs": [],
   "source": [
    "# Plot accuracy over epochs\n",
    "plt.figure(figsize=(15,3))\n",
    "plt.plot(history.history['sparse_categorical_accuracy'], label='Train Accuracy')\n",
    "plt.plot(history.history['val_sparse_categorical_accuracy'], label='Validation Accuracy')\n",
    "plt.xlabel('Epochs')\n",
    "plt.ylabel('Accuracy')\n",
    "plt.legend()\n",
    "plt.title('Accuracy over epochs')\n",
    "plt.show()"
   ]
  },
  {
   "cell_type": "code",
   "execution_count": null,
   "metadata": {},
   "outputs": [],
   "source": [
    "# Plot loss over epochs\n",
    "plt.figure(figsize=(15,3))\n",
    "plt.plot(history.history['student_loss'], label='Train Loss')\n",
    "plt.plot(history.history['val_student_loss'], label='Validation Loss')\n",
    "plt.xlabel('Epochs')\n",
    "plt.ylabel('Loss')\n",
    "plt.legend()\n",
    "plt.title('Loss over epochs')\n",
    "plt.show()\n"
   ]
  },
  {
   "cell_type": "markdown",
   "metadata": {},
   "source": [
    "#### Métricas"
   ]
  },
  {
   "cell_type": "code",
   "execution_count": null,
   "metadata": {},
   "outputs": [],
   "source": [
    "y_pred_probs = distilledMLP.student.predict(x_test)\n",
    "y_pred = np.argmax(y_pred_probs, axis=1)\n",
    "\n",
    "# Since y_test is one-hot encoded, you need to convert it back to class indices\n",
    "y_true = np.argmax(y_test, axis=1)  # Convert one-hot encoded labels to class indices\n",
    "\n",
    "cm = confusion_matrix(y_true, y_pred)\n",
    "disp = ConfusionMatrixDisplay(confusion_matrix=cm)\n",
    "disp.plot(cmap='Purples')\n",
    "plt.show()\n"
   ]
  },
  {
   "cell_type": "markdown",
   "metadata": {},
   "source": [
    "#### Guardar el modelo entrenado en disco"
   ]
  },
  {
   "cell_type": "code",
   "execution_count": null,
   "metadata": {},
   "outputs": [],
   "source": [
    "distilledMLP.student.save(\"models/mnistKD.h5\")"
   ]
  },
  {
   "cell_type": "markdown",
   "metadata": {},
   "source": [
    "--------"
   ]
  },
  {
   "cell_type": "markdown",
   "metadata": {},
   "source": [
    "#### 📝 Ejercicios\n",
    "\n",
    "- Variar la arquitectura del estudiante y analizar el rendimiento del modelo entrenado mediante las métricas correspondientes. Considerar los siguientes escenarios:\n",
    "    \n",
    "    - Disminuir el numero de capas.\n",
    "\n",
    "    - Variar la cantidad de neuronas en cada capa. \n",
    "\n",
    "    - Incrementar la cantidad de capas y disminuir la cantidad de neuronas en cada una de las capas. \n",
    "\n",
    "- Repetir los procesos de compresión para MNIST fashion y CIFAR-10 datasets. \n",
    "\n",
    "- ¿Qué conclusiones puede obtener? \n",
    "\n",
    "- 🎯 Para continuar con el próximo laboratorio: \n",
    "\n",
    "    -  **Para MNIST dataset, definir un clasificador binario: que discrimine solamente entre 6 y 9, o entre 7 y 5. Aplicar Quantization-Aware Pruning como método de entrenamiento y compresión.** \n",
    "\n",
    "    - **Para el mismo escenario, emplee QAT combinado con Knowledge Distillation**.\n"
   ]
  },
  {
   "cell_type": "markdown",
   "metadata": {},
   "source": []
  }
 ],
 "metadata": {
  "kernelspec": {
   "display_name": "neuralEnv",
   "language": "python",
   "name": "python3"
  },
  "language_info": {
   "codemirror_mode": {
    "name": "ipython",
    "version": 3
   },
   "file_extension": ".py",
   "mimetype": "text/x-python",
   "name": "python",
   "nbconvert_exporter": "python",
   "pygments_lexer": "ipython3",
   "version": "3.9.13"
  }
 },
 "nbformat": 4,
 "nbformat_minor": 2
}
